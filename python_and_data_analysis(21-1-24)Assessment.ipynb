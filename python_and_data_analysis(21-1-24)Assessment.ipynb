{
 "cells": [
  {
   "cell_type": "markdown",
   "id": "edd961a5",
   "metadata": {},
   "source": [
    "### 1"
   ]
  },
  {
   "cell_type": "code",
   "execution_count": 14,
   "id": "f932f19e",
   "metadata": {},
   "outputs": [
    {
     "name": "stdout",
     "output_type": "stream",
     "text": [
      "True\n"
     ]
    }
   ],
   "source": [
    "def foo(x):#The function foo takes a single argument x.\n",
    "    #Inside the function, the elements at index 0 and 1 of the input list x are modified. \n",
    "    x[0]=['def']#The element at index 0 is set to ['def']\n",
    "    x[1]=['abc']#the element at index 1 is set to ['abc'].\n",
    "    #The function returns the unique identifier (id) of the modified list x\n",
    "    return id(x)#This statement exits the function, and the lines of code after it will not be executed.\n",
    "q = ['abc','def']# this line will not be executed due to the 'return' statement\n",
    "print(id(q)==foo(q))#his comparison will not take place because of the return statement."
   ]
  },
  {
   "cell_type": "markdown",
   "id": "f6f0a9e5",
   "metadata": {},
   "source": [
    "* reason for above output \n",
    "* The comparison result is printed, and it will be True if the modification inside the function changed the identity of the list.\n",
    "* the identity of the modified list x will be different from the identity of the new list ['abc', 'def'], resulting in a True comparison.\n",
    "* So, the output of the print(comparison_result) statement will be True. The modification inside the foo function has indeed changed the identity of the list\n"
   ]
  },
  {
   "cell_type": "markdown",
   "id": "630d1da3",
   "metadata": {},
   "source": [
    "### 2."
   ]
  },
  {
   "cell_type": "code",
   "execution_count": 16,
   "id": "e4f0fc4a",
   "metadata": {},
   "outputs": [
    {
     "name": "stdout",
     "output_type": "stream",
     "text": [
      "2\n"
     ]
    }
   ],
   "source": [
    "def fun():#This code defines a function named fun.\n",
    "    try:#Inside the fun function, there is a try block. Code within this block is attempted to be executed.\n",
    "        return 1#The try block has a return 1 statement. \n",
    "    #This means that if the execution reaches this line, the function will immediately return the value 1 and exit.\n",
    "    finally:#The finally block is executed no matter what happens in the try block. \n",
    "        #it ensures that some code is always executed, regardless of whether an exception is raised or not.\n",
    "        return 2#Inside the finally block, there is a return 2 statement.\n",
    "           #This means that even if the try block encountered a return statement, the finally block will override it and the function will return the value 2.\n",
    "k = fun()#The fun function is called, and its return value is assigned to the variable k.\n",
    "print(k)#from the finally block always executes, it returns the value 2, regardless of the return statement in the try block."
   ]
  },
  {
   "cell_type": "markdown",
   "id": "9b29c0e6",
   "metadata": {},
   "source": [
    "### 3"
   ]
  },
  {
   "cell_type": "code",
   "execution_count": 18,
   "id": "34411ccb",
   "metadata": {},
   "outputs": [
    {
     "name": "stdout",
     "output_type": "stream",
     "text": [
      "Local\n"
     ]
    }
   ],
   "source": [
    "def func():#This line defines a function named func. The function doesn't take any parameters.\n",
    "    global value #The global keyword is used to declare that the variable value being referred to in this function is a global variable (outside the function scope).\n",
    "    value = \"Local\"#Inside the function, the global variable value is assigned the string value \"Local\".\n",
    "\n",
    "value = \"Global\" #Outside the function, a global variable value is assigned the string value \"Global\". This is a separate variable from the one inside the function.\n",
    "func()#The func function is called, which modifies the global variable value to \"Local\".\n",
    "print(value)#The value of the global variable value is printed. The value has been modified by the func function, so the output will be \"Local\"."
   ]
  },
  {
   "cell_type": "markdown",
   "id": "db7d0c44",
   "metadata": {},
   "source": [
    "#####  4__________ exceptions are raised as a result of an error in opening a particular file"
   ]
  },
  {
   "cell_type": "markdown",
   "id": "f7e0b14e",
   "metadata": {},
   "source": [
    "* The IOError is an exception in Python that is raised for input/output-related errors. This includes errors that can occur during file operations, such as opening, reading, or writing to a file."
   ]
  },
  {
   "cell_type": "markdown",
   "id": "2e8ec911",
   "metadata": {},
   "source": [
    "#### 5 In python we do not specify types, it is directly interpreted by the compiler, so consider the following operation to be performed"
   ]
  },
  {
   "cell_type": "markdown",
   "id": "82dc02c7",
   "metadata": {},
   "source": [
    "a) x = 13 // 2: This performs integer division, and the result is 6 (the floor division of 13 by 2). The type of x will be an integer.\n",
    "\n",
    "b) x = int(13 / 2): Here, you're explicitly converting the result of the division to an integer using the int() function. The result is 6, and the type of x will be an integer.\n",
    "\n",
    "c) x = 13 % 2: This performs the modulus operation, and the result is 1. The type of x will be an integer.\n",
    "\n",
    "So, all three options involve integer operations, and the type of x in all cases will be an integer. Therefore, the correct answer is:\n",
    "\n",
    "d) All of the mentioned\n"
   ]
  },
  {
   "cell_type": "markdown",
   "id": "2b6c3901",
   "metadata": {},
   "source": [
    "#### 6 what  will be the output of the following python code t[5]\n"
   ]
  },
  {
   "cell_type": "code",
   "execution_count": 19,
   "id": "670ca3a6",
   "metadata": {},
   "outputs": [
    {
     "ename": "NameError",
     "evalue": "name 't' is not defined",
     "output_type": "error",
     "traceback": [
      "\u001b[1;31m---------------------------------------------------------------------------\u001b[0m",
      "\u001b[1;31mNameError\u001b[0m                                 Traceback (most recent call last)",
      "Cell \u001b[1;32mIn[19], line 1\u001b[0m\n\u001b[1;32m----> 1\u001b[0m t[\u001b[38;5;241m5\u001b[39m]\n",
      "\u001b[1;31mNameError\u001b[0m: name 't' is not defined"
     ]
    }
   ],
   "source": [
    "t[5]"
   ]
  },
  {
   "cell_type": "markdown",
   "id": "87eee5c8",
   "metadata": {},
   "source": [
    "*b) NameError: This error occurs when trying to use a variable or a name that is not defined. If t is not defined before using t[5], a NameError will occur."
   ]
  },
  {
   "cell_type": "markdown",
   "id": "448edd08",
   "metadata": {},
   "source": [
    "#### 7  A while loop is used for indefinite iteration.¶"
   ]
  },
  {
   "cell_type": "markdown",
   "id": "5a745230",
   "metadata": {},
   "source": [
    "\n",
    "* The while loop in Python stands as a dynamic sentinel, tirelessly guarding the gates of iteration. Its open-ended nature allows code to dance in a rhythm only constrained by the conditions set within, embodying the spirit of adaptability and endless possibility in the world of programming.\"\n",
    "\n",
    "\n",
    "\n",
    "\n",
    "\n",
    "\n"
   ]
  },
  {
   "cell_type": "markdown",
   "id": "896988f3",
   "metadata": {},
   "source": [
    "#### 8 what will be the output of the following python code \n"
   ]
  },
  {
   "cell_type": "code",
   "execution_count": 20,
   "id": "646ced06",
   "metadata": {},
   "outputs": [
    {
     "ename": "NameError",
     "evalue": "name 'i' is not defined",
     "output_type": "error",
     "traceback": [
      "\u001b[1;31m---------------------------------------------------------------------------\u001b[0m",
      "\u001b[1;31mNameError\u001b[0m                                 Traceback (most recent call last)",
      "Cell \u001b[1;32mIn[20], line 3\u001b[0m\n\u001b[0;32m      1\u001b[0m x \u001b[38;5;241m=\u001b[39m \u001b[38;5;124m\"\u001b[39m\u001b[38;5;124mabcdef\u001b[39m\u001b[38;5;124m\"\u001b[39m\u001b[38;5;66;03m#initializes a string variable x with the value \"abcdef\".\u001b[39;00m\n\u001b[1;32m----> 3\u001b[0m \u001b[38;5;28;01mwhile\u001b[39;00m i \u001b[38;5;129;01min\u001b[39;00m x:\u001b[38;5;66;03m# The while loop condition is using i in x, but since i is not defined\u001b[39;00m\n\u001b[0;32m      5\u001b[0m     \u001b[38;5;28mprint\u001b[39m(i,end \u001b[38;5;241m=\u001b[39m\u001b[38;5;124m\"\u001b[39m\u001b[38;5;124m \u001b[39m\u001b[38;5;124m\"\u001b[39m)\n",
      "\u001b[1;31mNameError\u001b[0m: name 'i' is not defined"
     ]
    }
   ],
   "source": [
    "x = \"abcdef\"#initializes a string variable x with the value \"abcdef\".\n",
    "\n",
    "while i in x:# The while loop condition is using i in x, but since i is not defined\n",
    "    \n",
    "    print(i,end =\" \")# it will result in a NameError. Additionally, if i were defined, the condition \n",
    "# would check whether the value of i is in the string x, which might not be the intended behavior."
   ]
  },
  {
   "cell_type": "markdown",
   "id": "6bc3ab7e",
   "metadata": {},
   "source": [
    "#### 9 what is the main advantage of using decorators in python"
   ]
  },
  {
   "cell_type": "markdown",
   "id": "66ac993a",
   "metadata": {},
   "source": [
    "* The main advantage of using decorators in Python is that they provide a way to easily and cleanly modify or extend the behavior of functions, promoting code reusability, separation of concerns, and improved readability.\n",
    "\n",
    "\n",
    "\n",
    "\n",
    "\n",
    "\n"
   ]
  },
  {
   "cell_type": "markdown",
   "id": "b099643a",
   "metadata": {},
   "source": [
    "#### 10if return statement is not used inside the function, the function will return:"
   ]
  },
  {
   "cell_type": "markdown",
   "id": "f4903440",
   "metadata": {},
   "source": [
    "**If a return statement is not used inside a function in Python, the function will automatically return None by default. None is a special constant in Python that represents the absence of a value or a null value"
   ]
  },
  {
   "cell_type": "code",
   "execution_count": 21,
   "id": "bc292777",
   "metadata": {},
   "outputs": [
    {
     "name": "stdout",
     "output_type": "stream",
     "text": [
      "\n",
      "None\n"
     ]
    }
   ],
   "source": [
    "def my_function():\n",
    "    print()\n",
    "\n",
    "result = my_function()\n",
    "\n",
    "print(result)"
   ]
  },
  {
   "cell_type": "markdown",
   "id": "e95ca453",
   "metadata": {},
   "source": [
    "#### 11. what is called when a function is defined inside a class"
   ]
  },
  {
   "cell_type": "markdown",
   "id": "050fffd2",
   "metadata": {},
   "source": [
    "* Method"
   ]
  },
  {
   "cell_type": "markdown",
   "id": "ef9ee169",
   "metadata": {},
   "source": [
    "#### 12. which  operator is used in python to import modules from packages"
   ]
  },
  {
   "cell_type": "markdown",
   "id": "1bfcf8fb",
   "metadata": {},
   "source": [
    "* In Python, the dot (.) operator is used to import modules from packages. When you have a package containing submodules, you can use the dot notation to specify the path to the module you want to import.\n"
   ]
  },
  {
   "cell_type": "markdown",
   "id": "d2a95faf",
   "metadata": {},
   "source": [
    "#### 13"
   ]
  },
  {
   "cell_type": "code",
   "execution_count": 24,
   "id": "5dff3536",
   "metadata": {},
   "outputs": [
    {
     "name": "stdout",
     "output_type": "stream",
     "text": [
      "6\n"
     ]
    }
   ],
   "source": [
    "def getMonth(m): # Defines a function named getMonth that takes a parameter m\n",
    "    if m<1 or m>12: # Checks if the value of m is less than 1 or greater than 12.\n",
    "        raise ValueError(\"Invalid\") # If the condition is true (i.e., m is not between 1 and 12), raises a ValueError with the message \"Invalid.\"\n",
    "    print(m) # If the condition is false, prints the value of m.\n",
    "getMonth(6) # Calls the getMonth function with the argument 6.\n",
    "\n",
    "# So, when you run the code with getMonth(6), it will print 6 without raising a ValueError."
   ]
  },
  {
   "cell_type": "markdown",
   "id": "4ef4df8c",
   "metadata": {},
   "source": [
    "#### 14 In python programming Language syntax error is detected by Interpreter at Run time\n"
   ]
  },
  {
   "cell_type": "markdown",
   "id": "d032b21b",
   "metadata": {},
   "source": [
    "* syntax errors are detected during the parsing stage, which occurs when the Python interpreter reads your source code and tries to convert it into a bytecode representation. Python is an interpreted language, and the process of converting the source code into bytecode involves several stages, one of which is parsing.\n",
    "\n",
    "* syntax errors are detected during the parsing stage when the Python interpreter reads and processes your source code before generating bytecode.\n",
    "\n",
    "\n",
    "\n",
    "\n",
    "\n",
    "\n"
   ]
  },
  {
   "cell_type": "markdown",
   "id": "dbbef54d",
   "metadata": {},
   "source": [
    "### 15."
   ]
  },
  {
   "cell_type": "code",
   "execution_count": null,
   "id": "aecf4301",
   "metadata": {},
   "outputs": [],
   "source": [
    "class Book:\n",
    "    def__init__(self,author):\n",
    "         self.auther = auther\n",
    "book1= Book(\"V.M.shah\")\n",
    "book2 =book1"
   ]
  },
  {
   "cell_type": "markdown",
   "id": "222f9b3a",
   "metadata": {},
   "source": [
    "#### Data Analysis_module"
   ]
  },
  {
   "cell_type": "code",
   "execution_count": 2,
   "id": "a42539b0",
   "metadata": {},
   "outputs": [],
   "source": [
    "import pandas as pd ,numpy as np"
   ]
  },
  {
   "cell_type": "code",
   "execution_count": 3,
   "id": "18a0af3e",
   "metadata": {},
   "outputs": [],
   "source": [
    "data = {\n",
    "    'Date': pd.to_datetime(['2024-01-01', '2024-01-02', '2024-01-03', '2024-01-10', '2024-01-09', '2024-01-08']),\n",
    "    'Category': ['Beverage', 'Food', 'Beverage', 'Beverage', 'Beverage', 'Food'],\n",
    "    'Product': ['Cappuccino', 'Croissant', 'Espresso', 'Latte', 'Latte', 'Muffin'],\n",
    "    'CustomerID': ['C004', 'C002', 'C001', 'C001', 'C003', 'C002'],\n",
    "    'Quantity': [1, 2, 2, 3, 1, 1],\n",
    "    'UnitPrice': [3, 2, 2, 3.5, 3.5, 2.5]\n",
    "}"
   ]
  },
  {
   "cell_type": "code",
   "execution_count": 4,
   "id": "3e838f99",
   "metadata": {},
   "outputs": [],
   "source": [
    "df =pd.DataFrame(data)"
   ]
  },
  {
   "cell_type": "code",
   "execution_count": 5,
   "id": "c8056249",
   "metadata": {},
   "outputs": [
    {
     "data": {
      "text/html": [
       "<div>\n",
       "<style scoped>\n",
       "    .dataframe tbody tr th:only-of-type {\n",
       "        vertical-align: middle;\n",
       "    }\n",
       "\n",
       "    .dataframe tbody tr th {\n",
       "        vertical-align: top;\n",
       "    }\n",
       "\n",
       "    .dataframe thead th {\n",
       "        text-align: right;\n",
       "    }\n",
       "</style>\n",
       "<table border=\"1\" class=\"dataframe\">\n",
       "  <thead>\n",
       "    <tr style=\"text-align: right;\">\n",
       "      <th></th>\n",
       "      <th>Date</th>\n",
       "      <th>Category</th>\n",
       "      <th>Product</th>\n",
       "      <th>CustomerID</th>\n",
       "      <th>Quantity</th>\n",
       "      <th>UnitPrice</th>\n",
       "    </tr>\n",
       "  </thead>\n",
       "  <tbody>\n",
       "    <tr>\n",
       "      <th>0</th>\n",
       "      <td>2024-01-01</td>\n",
       "      <td>Beverage</td>\n",
       "      <td>Cappuccino</td>\n",
       "      <td>C004</td>\n",
       "      <td>1</td>\n",
       "      <td>3.0</td>\n",
       "    </tr>\n",
       "    <tr>\n",
       "      <th>1</th>\n",
       "      <td>2024-01-02</td>\n",
       "      <td>Food</td>\n",
       "      <td>Croissant</td>\n",
       "      <td>C002</td>\n",
       "      <td>2</td>\n",
       "      <td>2.0</td>\n",
       "    </tr>\n",
       "    <tr>\n",
       "      <th>2</th>\n",
       "      <td>2024-01-03</td>\n",
       "      <td>Beverage</td>\n",
       "      <td>Espresso</td>\n",
       "      <td>C001</td>\n",
       "      <td>2</td>\n",
       "      <td>2.0</td>\n",
       "    </tr>\n",
       "    <tr>\n",
       "      <th>3</th>\n",
       "      <td>2024-01-10</td>\n",
       "      <td>Beverage</td>\n",
       "      <td>Latte</td>\n",
       "      <td>C001</td>\n",
       "      <td>3</td>\n",
       "      <td>3.5</td>\n",
       "    </tr>\n",
       "    <tr>\n",
       "      <th>4</th>\n",
       "      <td>2024-01-09</td>\n",
       "      <td>Beverage</td>\n",
       "      <td>Latte</td>\n",
       "      <td>C003</td>\n",
       "      <td>1</td>\n",
       "      <td>3.5</td>\n",
       "    </tr>\n",
       "    <tr>\n",
       "      <th>5</th>\n",
       "      <td>2024-01-08</td>\n",
       "      <td>Food</td>\n",
       "      <td>Muffin</td>\n",
       "      <td>C002</td>\n",
       "      <td>1</td>\n",
       "      <td>2.5</td>\n",
       "    </tr>\n",
       "  </tbody>\n",
       "</table>\n",
       "</div>"
      ],
      "text/plain": [
       "        Date  Category     Product CustomerID  Quantity  UnitPrice\n",
       "0 2024-01-01  Beverage  Cappuccino       C004         1        3.0\n",
       "1 2024-01-02      Food   Croissant       C002         2        2.0\n",
       "2 2024-01-03  Beverage    Espresso       C001         2        2.0\n",
       "3 2024-01-10  Beverage       Latte       C001         3        3.5\n",
       "4 2024-01-09  Beverage       Latte       C003         1        3.5\n",
       "5 2024-01-08      Food      Muffin       C002         1        2.5"
      ]
     },
     "execution_count": 5,
     "metadata": {},
     "output_type": "execute_result"
    }
   ],
   "source": [
    "df"
   ]
  },
  {
   "cell_type": "markdown",
   "id": "c80f6a81",
   "metadata": {},
   "source": [
    "#### 16.  how to create a new column 'revenue ' ,which has value equals to the quantity*Unitprice of the current row?"
   ]
  },
  {
   "cell_type": "code",
   "execution_count": 6,
   "id": "4e2f2262",
   "metadata": {},
   "outputs": [],
   "source": [
    "df['Revenue'] = df['Quantity'] * df['UnitPrice']"
   ]
  },
  {
   "cell_type": "code",
   "execution_count": 7,
   "id": "38b2beeb",
   "metadata": {},
   "outputs": [
    {
     "data": {
      "text/plain": [
       "0     3.0\n",
       "1     4.0\n",
       "2     4.0\n",
       "3    10.5\n",
       "4     3.5\n",
       "5     2.5\n",
       "Name: Revenue, dtype: float64"
      ]
     },
     "execution_count": 7,
     "metadata": {},
     "output_type": "execute_result"
    }
   ],
   "source": [
    "df['Revenue']"
   ]
  },
  {
   "cell_type": "markdown",
   "id": "2b0032f2",
   "metadata": {},
   "source": [
    "#### 17.  what is the syntax to find Categorical wise revenue"
   ]
  },
  {
   "cell_type": "code",
   "execution_count": 8,
   "id": "99b783f2",
   "metadata": {},
   "outputs": [
    {
     "data": {
      "text/plain": [
       "Category\n",
       "Beverage    21.0\n",
       "Food         6.5\n",
       "Name: Revenue, dtype: float64"
      ]
     },
     "execution_count": 8,
     "metadata": {},
     "output_type": "execute_result"
    }
   ],
   "source": [
    "df.groupby('Category')['Revenue'].sum()#calculates the sum of the 'Revenue' column for each category.\n"
   ]
  },
  {
   "cell_type": "markdown",
   "id": "390635b5",
   "metadata": {},
   "source": [
    "#### 18. To find average quantity  wrt to data and product,"
   ]
  },
  {
   "cell_type": "code",
   "execution_count": 9,
   "id": "f3d05bf1",
   "metadata": {},
   "outputs": [
    {
     "data": {
      "text/plain": [
       "Date        Product   \n",
       "2024-01-01  Cappuccino    1.0\n",
       "2024-01-02  Croissant     2.0\n",
       "2024-01-03  Espresso      2.0\n",
       "2024-01-08  Muffin        1.0\n",
       "2024-01-09  Latte         1.0\n",
       "2024-01-10  Latte         3.0\n",
       "Name: Quantity, dtype: float64"
      ]
     },
     "execution_count": 9,
     "metadata": {},
     "output_type": "execute_result"
    }
   ],
   "source": [
    "df.groupby(['Date', 'Product'])['Quantity'].mean()"
   ]
  },
  {
   "cell_type": "markdown",
   "id": "61b2ea6a",
   "metadata": {},
   "source": [
    "#### 19. average quantity wrt to date and product"
   ]
  },
  {
   "cell_type": "code",
   "execution_count": 10,
   "id": "a8a115cc",
   "metadata": {},
   "outputs": [
    {
     "data": {
      "text/plain": [
       "Category\n",
       "Beverage    21.0\n",
       "Food         6.5\n",
       "Name: Revenue, dtype: float64"
      ]
     },
     "execution_count": 10,
     "metadata": {},
     "output_type": "execute_result"
    }
   ],
   "source": [
    "df.groupby('Category')['Revenue'].sum()\n"
   ]
  },
  {
   "cell_type": "markdown",
   "id": "2ee471ce",
   "metadata": {},
   "source": [
    "#### 20. using transform, what is the syntax to create a cloumn which has a unitprice difference wrt its category mean?"
   ]
  },
  {
   "cell_type": "code",
   "execution_count": 11,
   "id": "dec5376c",
   "metadata": {},
   "outputs": [
    {
     "data": {
      "text/plain": [
       "0    0.00\n",
       "1   -0.25\n",
       "2   -1.00\n",
       "3    0.50\n",
       "4    0.50\n",
       "5    0.25\n",
       "Name: UnitPrice, dtype: float64"
      ]
     },
     "execution_count": 11,
     "metadata": {},
     "output_type": "execute_result"
    }
   ],
   "source": [
    "df.groupby('Category')['UnitPrice'].transform(lambda x: x - x.mean())"
   ]
  },
  {
   "cell_type": "markdown",
   "id": "871b8c84",
   "metadata": {},
   "source": [
    "#### 21. what is the correct syntax to get dat wrt ' monday'"
   ]
  },
  {
   "cell_type": "code",
   "execution_count": 12,
   "id": "670ed0cd",
   "metadata": {},
   "outputs": [
    {
     "data": {
      "text/html": [
       "<div>\n",
       "<style scoped>\n",
       "    .dataframe tbody tr th:only-of-type {\n",
       "        vertical-align: middle;\n",
       "    }\n",
       "\n",
       "    .dataframe tbody tr th {\n",
       "        vertical-align: top;\n",
       "    }\n",
       "\n",
       "    .dataframe thead th {\n",
       "        text-align: right;\n",
       "    }\n",
       "</style>\n",
       "<table border=\"1\" class=\"dataframe\">\n",
       "  <thead>\n",
       "    <tr style=\"text-align: right;\">\n",
       "      <th></th>\n",
       "      <th>Date</th>\n",
       "      <th>Category</th>\n",
       "      <th>Product</th>\n",
       "      <th>CustomerID</th>\n",
       "      <th>Quantity</th>\n",
       "      <th>UnitPrice</th>\n",
       "      <th>Revenue</th>\n",
       "    </tr>\n",
       "  </thead>\n",
       "  <tbody>\n",
       "    <tr>\n",
       "      <th>0</th>\n",
       "      <td>2024-01-01</td>\n",
       "      <td>Beverage</td>\n",
       "      <td>Cappuccino</td>\n",
       "      <td>C004</td>\n",
       "      <td>1</td>\n",
       "      <td>3.0</td>\n",
       "      <td>3.0</td>\n",
       "    </tr>\n",
       "    <tr>\n",
       "      <th>5</th>\n",
       "      <td>2024-01-08</td>\n",
       "      <td>Food</td>\n",
       "      <td>Muffin</td>\n",
       "      <td>C002</td>\n",
       "      <td>1</td>\n",
       "      <td>2.5</td>\n",
       "      <td>2.5</td>\n",
       "    </tr>\n",
       "  </tbody>\n",
       "</table>\n",
       "</div>"
      ],
      "text/plain": [
       "        Date  Category     Product CustomerID  Quantity  UnitPrice  Revenue\n",
       "0 2024-01-01  Beverage  Cappuccino       C004         1        3.0      3.0\n",
       "5 2024-01-08      Food      Muffin       C002         1        2.5      2.5"
      ]
     },
     "execution_count": 12,
     "metadata": {},
     "output_type": "execute_result"
    }
   ],
   "source": [
    "df.groupby(df.Date.dt.day_name()).get_group('Monday')"
   ]
  },
  {
   "cell_type": "markdown",
   "id": "ff25b8de",
   "metadata": {},
   "source": [
    "#### 22.  True statement on apply "
   ]
  },
  {
   "cell_type": "markdown",
   "id": "0f080b83",
   "metadata": {},
   "source": [
    "apply() can be applied on rows, Apply applies the function on the entire sries at a time"
   ]
  },
  {
   "cell_type": "markdown",
   "id": "2b957f00",
   "metadata": {},
   "source": [
    "#### 23. true statement "
   ]
  },
  {
   "cell_type": "markdown",
   "id": "eece70bf",
   "metadata": {},
   "source": [
    "#### Apply and map are vectorized applications"
   ]
  },
  {
   "cell_type": "markdown",
   "id": "78fcfb8d",
   "metadata": {},
   "source": [
    "--->When using apply in the context of libraries like NumPy or Pandas in Python, or similar libraries in other languages, the underlying operations are often vectorized for efficiency.\n",
    "\n",
    "--->Libraries like NumPy are designed to perform operations on entire arrays efficiently, and they use low-level, optimized code  to achieve this vectorized behavior.\n",
    "\n",
    "---->Parallelization: In some cases, the map operation can be parallelized, meaning that the function is applied to multiple elements simultaneously, utilizing multicore processors for increased performance.\n",
    "\n",
    "---->\"map\" and \"apply\" can be vectorized applications when implemented in languages or libraries that support optimized, bulk operations on collections or data structures, leading to more efficient and faster computations.\n",
    "\n",
    "----> \"map\" and \"apply\" can be vectorized applications when implemented in languages or libraries that support optimized, bulk operations on collections or data structures, leading to more efficient and faster computations.\n",
    "\n"
   ]
  },
  {
   "cell_type": "code",
   "execution_count": 13,
   "id": "99762c56",
   "metadata": {},
   "outputs": [],
   "source": [
    "import pandas as pd\n",
    "import numpy as np"
   ]
  },
  {
   "cell_type": "code",
   "execution_count": 56,
   "id": "289782f4",
   "metadata": {},
   "outputs": [],
   "source": [
    "# providing the data and columns  name with dic \n",
    "data = {\n",
    "    'Date': pd.to_datetime(['2024-01-10', '2024-01-11', '2024-01-10', '2024-01-12', '2024-01-11', '2024-01-12']),\n",
    "    'Region': ['North', 'South', 'East', 'West', 'North', 'East'],\n",
    "    'Salesperson': ['Ajay', 'Balu', 'Chirag', 'Ajay', 'Balu', 'Chirag'],\n",
    "    'Product': ['Notebook', 'Pen', 'Notebook', 'Pen', 'Binder', 'Binder'],\n",
    "    'Quantity': [5, 10, 7, 15, 20, 10],\n",
    "    'UnitPrice': [12, 3, 12, 3, 5, 5]\n",
    "}\n"
   ]
  },
  {
   "cell_type": "code",
   "execution_count": 57,
   "id": "5b2be624",
   "metadata": {},
   "outputs": [],
   "source": [
    "df =pd.DataFrame(data)"
   ]
  },
  {
   "cell_type": "code",
   "execution_count": 58,
   "id": "b1b76af2",
   "metadata": {},
   "outputs": [
    {
     "data": {
      "text/html": [
       "<div>\n",
       "<style scoped>\n",
       "    .dataframe tbody tr th:only-of-type {\n",
       "        vertical-align: middle;\n",
       "    }\n",
       "\n",
       "    .dataframe tbody tr th {\n",
       "        vertical-align: top;\n",
       "    }\n",
       "\n",
       "    .dataframe thead th {\n",
       "        text-align: right;\n",
       "    }\n",
       "</style>\n",
       "<table border=\"1\" class=\"dataframe\">\n",
       "  <thead>\n",
       "    <tr style=\"text-align: right;\">\n",
       "      <th></th>\n",
       "      <th>Date</th>\n",
       "      <th>Region</th>\n",
       "      <th>Salesperson</th>\n",
       "      <th>Product</th>\n",
       "      <th>Quantity</th>\n",
       "      <th>UnitPrice</th>\n",
       "    </tr>\n",
       "  </thead>\n",
       "  <tbody>\n",
       "    <tr>\n",
       "      <th>0</th>\n",
       "      <td>2024-01-10</td>\n",
       "      <td>North</td>\n",
       "      <td>Ajay</td>\n",
       "      <td>Notebook</td>\n",
       "      <td>5</td>\n",
       "      <td>12</td>\n",
       "    </tr>\n",
       "    <tr>\n",
       "      <th>1</th>\n",
       "      <td>2024-01-11</td>\n",
       "      <td>South</td>\n",
       "      <td>Balu</td>\n",
       "      <td>Pen</td>\n",
       "      <td>10</td>\n",
       "      <td>3</td>\n",
       "    </tr>\n",
       "    <tr>\n",
       "      <th>2</th>\n",
       "      <td>2024-01-10</td>\n",
       "      <td>East</td>\n",
       "      <td>Chirag</td>\n",
       "      <td>Notebook</td>\n",
       "      <td>7</td>\n",
       "      <td>12</td>\n",
       "    </tr>\n",
       "    <tr>\n",
       "      <th>3</th>\n",
       "      <td>2024-01-12</td>\n",
       "      <td>West</td>\n",
       "      <td>Ajay</td>\n",
       "      <td>Pen</td>\n",
       "      <td>15</td>\n",
       "      <td>3</td>\n",
       "    </tr>\n",
       "    <tr>\n",
       "      <th>4</th>\n",
       "      <td>2024-01-11</td>\n",
       "      <td>North</td>\n",
       "      <td>Balu</td>\n",
       "      <td>Binder</td>\n",
       "      <td>20</td>\n",
       "      <td>5</td>\n",
       "    </tr>\n",
       "    <tr>\n",
       "      <th>5</th>\n",
       "      <td>2024-01-12</td>\n",
       "      <td>East</td>\n",
       "      <td>Chirag</td>\n",
       "      <td>Binder</td>\n",
       "      <td>10</td>\n",
       "      <td>5</td>\n",
       "    </tr>\n",
       "  </tbody>\n",
       "</table>\n",
       "</div>"
      ],
      "text/plain": [
       "        Date Region Salesperson   Product  Quantity  UnitPrice\n",
       "0 2024-01-10  North        Ajay  Notebook         5         12\n",
       "1 2024-01-11  South        Balu       Pen        10          3\n",
       "2 2024-01-10   East      Chirag  Notebook         7         12\n",
       "3 2024-01-12   West        Ajay       Pen        15          3\n",
       "4 2024-01-11  North        Balu    Binder        20          5\n",
       "5 2024-01-12   East      Chirag    Binder        10          5"
      ]
     },
     "execution_count": 58,
     "metadata": {},
     "output_type": "execute_result"
    }
   ],
   "source": [
    "df"
   ]
  },
  {
   "cell_type": "markdown",
   "id": "de506381",
   "metadata": {},
   "source": [
    "#### 24.syntax to create a pivot table with index as north and south and columns as poduct and souuth columns as proudut where values are sum of quantities sold\n"
   ]
  },
  {
   "cell_type": "code",
   "execution_count": 59,
   "id": "fcb7db8e",
   "metadata": {},
   "outputs": [
    {
     "data": {
      "text/html": [
       "<div>\n",
       "<style scoped>\n",
       "    .dataframe tbody tr th:only-of-type {\n",
       "        vertical-align: middle;\n",
       "    }\n",
       "\n",
       "    .dataframe tbody tr th {\n",
       "        vertical-align: top;\n",
       "    }\n",
       "\n",
       "    .dataframe thead th {\n",
       "        text-align: right;\n",
       "    }\n",
       "</style>\n",
       "<table border=\"1\" class=\"dataframe\">\n",
       "  <thead>\n",
       "    <tr style=\"text-align: right;\">\n",
       "      <th>Product</th>\n",
       "      <th>Binder</th>\n",
       "      <th>Notebook</th>\n",
       "      <th>Pen</th>\n",
       "    </tr>\n",
       "    <tr>\n",
       "      <th>Region</th>\n",
       "      <th></th>\n",
       "      <th></th>\n",
       "      <th></th>\n",
       "    </tr>\n",
       "  </thead>\n",
       "  <tbody>\n",
       "    <tr>\n",
       "      <th>North</th>\n",
       "      <td>20.0</td>\n",
       "      <td>5.0</td>\n",
       "      <td>NaN</td>\n",
       "    </tr>\n",
       "    <tr>\n",
       "      <th>South</th>\n",
       "      <td>NaN</td>\n",
       "      <td>NaN</td>\n",
       "      <td>10.0</td>\n",
       "    </tr>\n",
       "  </tbody>\n",
       "</table>\n",
       "</div>"
      ],
      "text/plain": [
       "Product  Binder  Notebook   Pen\n",
       "Region                         \n",
       "North      20.0       5.0   NaN\n",
       "South       NaN       NaN  10.0"
      ]
     },
     "execution_count": 59,
     "metadata": {},
     "output_type": "execute_result"
    }
   ],
   "source": [
    "# Creating a pivot table with index as 'Region', columns as 'Product',\n",
    "# and values as the sum of 'Quantity'\n",
    "df[df['Region'].isin(['North', 'South'])].pivot_table(index='Region', columns='Product', values='Quantity', aggfunc='sum')"
   ]
  },
  {
   "cell_type": "markdown",
   "id": "e0fa70c1",
   "metadata": {},
   "source": [
    "#### 25.True statement"
   ]
  },
  {
   "cell_type": "markdown",
   "id": "a073b60f",
   "metadata": {},
   "source": [
    "* loc method includes the last element when used for slicing, \n",
    "* we can use .loc method and pass default integer index of rows when slicing"
   ]
  },
  {
   "cell_type": "markdown",
   "id": "d9cee628",
   "metadata": {},
   "source": [
    "#### 26 Using a pivot table is it possible to create a multi index datafrme ,if so what is the syntax to have multi index of data and region with total product sold as values\n"
   ]
  },
  {
   "cell_type": "code",
   "execution_count": 60,
   "id": "a7a28c7e",
   "metadata": {},
   "outputs": [],
   "source": [
    "# Create a pivot table with multi-index (Region, Product) and values as the sum of 'Quantity'\n",
    "multi_index_pivot_table = df.pivot_table(index=['Region', 'Product'], values='Quantity', aggfunc='sum')\n",
    "#we provide a list of columns for the index parameter, creating a multi-index DataFrame with 'Region' and 'Product' as index levels. \n",
    "#The values are the sum of 'Quantity' for each combination of region and product."
   ]
  },
  {
   "cell_type": "code",
   "execution_count": 61,
   "id": "cf36daa8",
   "metadata": {},
   "outputs": [
    {
     "data": {
      "text/html": [
       "<div>\n",
       "<style scoped>\n",
       "    .dataframe tbody tr th:only-of-type {\n",
       "        vertical-align: middle;\n",
       "    }\n",
       "\n",
       "    .dataframe tbody tr th {\n",
       "        vertical-align: top;\n",
       "    }\n",
       "\n",
       "    .dataframe thead th {\n",
       "        text-align: right;\n",
       "    }\n",
       "</style>\n",
       "<table border=\"1\" class=\"dataframe\">\n",
       "  <thead>\n",
       "    <tr style=\"text-align: right;\">\n",
       "      <th></th>\n",
       "      <th></th>\n",
       "      <th>Quantity</th>\n",
       "    </tr>\n",
       "    <tr>\n",
       "      <th>Region</th>\n",
       "      <th>Product</th>\n",
       "      <th></th>\n",
       "    </tr>\n",
       "  </thead>\n",
       "  <tbody>\n",
       "    <tr>\n",
       "      <th rowspan=\"2\" valign=\"top\">East</th>\n",
       "      <th>Binder</th>\n",
       "      <td>10</td>\n",
       "    </tr>\n",
       "    <tr>\n",
       "      <th>Notebook</th>\n",
       "      <td>7</td>\n",
       "    </tr>\n",
       "    <tr>\n",
       "      <th rowspan=\"2\" valign=\"top\">North</th>\n",
       "      <th>Binder</th>\n",
       "      <td>20</td>\n",
       "    </tr>\n",
       "    <tr>\n",
       "      <th>Notebook</th>\n",
       "      <td>5</td>\n",
       "    </tr>\n",
       "    <tr>\n",
       "      <th>South</th>\n",
       "      <th>Pen</th>\n",
       "      <td>10</td>\n",
       "    </tr>\n",
       "    <tr>\n",
       "      <th>West</th>\n",
       "      <th>Pen</th>\n",
       "      <td>15</td>\n",
       "    </tr>\n",
       "  </tbody>\n",
       "</table>\n",
       "</div>"
      ],
      "text/plain": [
       "                 Quantity\n",
       "Region Product           \n",
       "East   Binder          10\n",
       "       Notebook         7\n",
       "North  Binder          20\n",
       "       Notebook         5\n",
       "South  Pen             10\n",
       "West   Pen             15"
      ]
     },
     "execution_count": 61,
     "metadata": {},
     "output_type": "execute_result"
    }
   ],
   "source": [
    "multi_index_pivot_table"
   ]
  },
  {
   "cell_type": "markdown",
   "id": "eb2c5160",
   "metadata": {},
   "source": [
    "#### 27.what does the marigins parameters in the pivot_table()function allow you to includre in the pivot table table"
   ]
  },
  {
   "cell_type": "markdown",
   "id": "8531f201",
   "metadata": {},
   "source": [
    " --->the maximum number of rows and columns to display in the pivot table \n",
    " \n",
    " *If you set margins=True, an additional row labeled \"All\" will be added to the bottom of the pivot table. This row contains the total for each column across all rows.\n",
    " \n",
    " *If you set margins=True, an additional column labeled \"All\" will be added to the right of the pivot table. This column contains the total for each row across all columns.\n",
    " \n",
    " *The intersection of the \"All\" row and \"All\" column represents the overall grand total, which is the sum of all values in the original dataset.\n",
    " "
   ]
  },
  {
   "cell_type": "code",
   "execution_count": 62,
   "id": "6b79e138",
   "metadata": {},
   "outputs": [],
   "source": [
    "#providing the data and columns  name with dic \n",
    "data = {\n",
    "    'Fruits': ['apple', 'banana', 'apple', 'apple', 'banana', 'apple', 'kiwi', 'kiwi', 'banana', 'apple', 'kiwi', 'apple', 'banana', 'grape', 'apple', 'banana', 'apple', 'apple', 'grape'],\n",
    "    'Price': ['', '', 205, 200, 40, 210, 300, 320, '', 180, 350, '', 35, '', 215, 40, '', '', '']\n",
    "}\n"
   ]
  },
  {
   "cell_type": "code",
   "execution_count": 63,
   "id": "62ad882c",
   "metadata": {},
   "outputs": [],
   "source": [
    "df2 = pd.DataFrame(data)#Converting into dataframe "
   ]
  },
  {
   "cell_type": "code",
   "execution_count": 64,
   "id": "656b7a68",
   "metadata": {},
   "outputs": [
    {
     "data": {
      "text/html": [
       "<div>\n",
       "<style scoped>\n",
       "    .dataframe tbody tr th:only-of-type {\n",
       "        vertical-align: middle;\n",
       "    }\n",
       "\n",
       "    .dataframe tbody tr th {\n",
       "        vertical-align: top;\n",
       "    }\n",
       "\n",
       "    .dataframe thead th {\n",
       "        text-align: right;\n",
       "    }\n",
       "</style>\n",
       "<table border=\"1\" class=\"dataframe\">\n",
       "  <thead>\n",
       "    <tr style=\"text-align: right;\">\n",
       "      <th></th>\n",
       "      <th>Fruits</th>\n",
       "      <th>Price</th>\n",
       "    </tr>\n",
       "  </thead>\n",
       "  <tbody>\n",
       "    <tr>\n",
       "      <th>0</th>\n",
       "      <td>apple</td>\n",
       "      <td></td>\n",
       "    </tr>\n",
       "    <tr>\n",
       "      <th>1</th>\n",
       "      <td>banana</td>\n",
       "      <td></td>\n",
       "    </tr>\n",
       "    <tr>\n",
       "      <th>2</th>\n",
       "      <td>apple</td>\n",
       "      <td>205</td>\n",
       "    </tr>\n",
       "    <tr>\n",
       "      <th>3</th>\n",
       "      <td>apple</td>\n",
       "      <td>200</td>\n",
       "    </tr>\n",
       "    <tr>\n",
       "      <th>4</th>\n",
       "      <td>banana</td>\n",
       "      <td>40</td>\n",
       "    </tr>\n",
       "    <tr>\n",
       "      <th>5</th>\n",
       "      <td>apple</td>\n",
       "      <td>210</td>\n",
       "    </tr>\n",
       "    <tr>\n",
       "      <th>6</th>\n",
       "      <td>kiwi</td>\n",
       "      <td>300</td>\n",
       "    </tr>\n",
       "    <tr>\n",
       "      <th>7</th>\n",
       "      <td>kiwi</td>\n",
       "      <td>320</td>\n",
       "    </tr>\n",
       "    <tr>\n",
       "      <th>8</th>\n",
       "      <td>banana</td>\n",
       "      <td></td>\n",
       "    </tr>\n",
       "    <tr>\n",
       "      <th>9</th>\n",
       "      <td>apple</td>\n",
       "      <td>180</td>\n",
       "    </tr>\n",
       "    <tr>\n",
       "      <th>10</th>\n",
       "      <td>kiwi</td>\n",
       "      <td>350</td>\n",
       "    </tr>\n",
       "    <tr>\n",
       "      <th>11</th>\n",
       "      <td>apple</td>\n",
       "      <td></td>\n",
       "    </tr>\n",
       "    <tr>\n",
       "      <th>12</th>\n",
       "      <td>banana</td>\n",
       "      <td>35</td>\n",
       "    </tr>\n",
       "    <tr>\n",
       "      <th>13</th>\n",
       "      <td>grape</td>\n",
       "      <td></td>\n",
       "    </tr>\n",
       "    <tr>\n",
       "      <th>14</th>\n",
       "      <td>apple</td>\n",
       "      <td>215</td>\n",
       "    </tr>\n",
       "    <tr>\n",
       "      <th>15</th>\n",
       "      <td>banana</td>\n",
       "      <td>40</td>\n",
       "    </tr>\n",
       "    <tr>\n",
       "      <th>16</th>\n",
       "      <td>apple</td>\n",
       "      <td></td>\n",
       "    </tr>\n",
       "    <tr>\n",
       "      <th>17</th>\n",
       "      <td>apple</td>\n",
       "      <td></td>\n",
       "    </tr>\n",
       "    <tr>\n",
       "      <th>18</th>\n",
       "      <td>grape</td>\n",
       "      <td></td>\n",
       "    </tr>\n",
       "  </tbody>\n",
       "</table>\n",
       "</div>"
      ],
      "text/plain": [
       "    Fruits Price\n",
       "0    apple      \n",
       "1   banana      \n",
       "2    apple   205\n",
       "3    apple   200\n",
       "4   banana    40\n",
       "5    apple   210\n",
       "6     kiwi   300\n",
       "7     kiwi   320\n",
       "8   banana      \n",
       "9    apple   180\n",
       "10    kiwi   350\n",
       "11   apple      \n",
       "12  banana    35\n",
       "13   grape      \n",
       "14   apple   215\n",
       "15  banana    40\n",
       "16   apple      \n",
       "17   apple      \n",
       "18   grape      "
      ]
     },
     "execution_count": 64,
     "metadata": {},
     "output_type": "execute_result"
    }
   ],
   "source": [
    "df2\n"
   ]
  },
  {
   "cell_type": "markdown",
   "id": "51d16288",
   "metadata": {},
   "source": [
    "#### 28.if we chooser to impute missing values in price col by chainning ffill()and bfill()while limiting the imputations to 1, 1 respectively, how many missing values will be left post imputation\n"
   ]
  },
  {
   "cell_type": "code",
   "execution_count": 65,
   "id": "c0c3af27",
   "metadata": {},
   "outputs": [],
   "source": [
    "df2['Price'] = pd.to_numeric(df2['Price'])\n",
    "df2['Price'] = df2['Price'].ffill(limit=1).bfill(limit=1)\n",
    "# ffill can impute the values infort \n",
    "#b fill can impute the value backword\n",
    "#limit =1 ,we providig how many missing values wants to fill from backward and forntward"
   ]
  },
  {
   "cell_type": "code",
   "execution_count": 66,
   "id": "acb8755f",
   "metadata": {},
   "outputs": [
    {
     "data": {
      "text/plain": [
       "0       NaN\n",
       "1     205.0\n",
       "2     205.0\n",
       "3     200.0\n",
       "4      40.0\n",
       "5     210.0\n",
       "6     300.0\n",
       "7     320.0\n",
       "8     320.0\n",
       "9     180.0\n",
       "10    350.0\n",
       "11    350.0\n",
       "12     35.0\n",
       "13     35.0\n",
       "14    215.0\n",
       "15     40.0\n",
       "16     40.0\n",
       "17      NaN\n",
       "18      NaN\n",
       "Name: Price, dtype: float64"
      ]
     },
     "execution_count": 66,
     "metadata": {},
     "output_type": "execute_result"
    }
   ],
   "source": [
    "df2['Price'] "
   ]
  },
  {
   "cell_type": "markdown",
   "id": "61ce8f7d",
   "metadata": {},
   "source": [
    "#### 29.what kind of misssing values handling technique is appropriate for df"
   ]
  },
  {
   "cell_type": "markdown",
   "id": "dba27263",
   "metadata": {},
   "source": [
    "* imputing price column with individual fruits prices mean\n",
    "* Dropping missing values"
   ]
  },
  {
   "cell_type": "markdown",
   "id": "557e86b0",
   "metadata": {},
   "source": [
    "#### 30.if we choos to impute missing values in price col by withindividual fruits prices mean ,how many missing values will be post imputation?"
   ]
  },
  {
   "cell_type": "code",
   "execution_count": 67,
   "id": "dd3caa37",
   "metadata": {},
   "outputs": [],
   "source": [
    "df2['Price'] = pd.to_numeric(df2['Price'])\n",
    "df2['Price'] = df2.groupby('Fruits')['Price'].transform(lambda x: x.fillna(x.mean()))"
   ]
  },
  {
   "cell_type": "code",
   "execution_count": 68,
   "id": "85a2e6ca",
   "metadata": {},
   "outputs": [
    {
     "data": {
      "text/plain": [
       "0     200.0\n",
       "1     205.0\n",
       "2     205.0\n",
       "3     200.0\n",
       "4      40.0\n",
       "5     210.0\n",
       "6     300.0\n",
       "7     320.0\n",
       "8     320.0\n",
       "9     180.0\n",
       "10    350.0\n",
       "11    350.0\n",
       "12     35.0\n",
       "13     35.0\n",
       "14    215.0\n",
       "15     40.0\n",
       "16     40.0\n",
       "17    200.0\n",
       "18     35.0\n",
       "Name: Price, dtype: float64"
      ]
     },
     "execution_count": 68,
     "metadata": {},
     "output_type": "execute_result"
    }
   ],
   "source": [
    "df2['Price']"
   ]
  },
  {
   "cell_type": "markdown",
   "id": "35d5de4e",
   "metadata": {},
   "source": [
    "#### 31"
   ]
  },
  {
   "cell_type": "code",
   "execution_count": 73,
   "id": "98a50fe0",
   "metadata": {},
   "outputs": [
    {
     "data": {
      "text/plain": [
       "0    NaN\n",
       "1    1.0\n",
       "2    2.0\n",
       "3    2.4\n",
       "4    2.8\n",
       "5    3.2\n",
       "6    3.6\n",
       "7    4.0\n",
       "8    5.0\n",
       "9    7.0\n",
       "dtype: float64"
      ]
     },
     "execution_count": 73,
     "metadata": {},
     "output_type": "execute_result"
    }
   ],
   "source": [
    " a = pd.Series([np.nan, 1, 2, np.nan, np.nan, np.nan, np.nan, 4, 5, 7])\n",
    "\n",
    "a.interpolate()"
   ]
  },
  {
   "cell_type": "markdown",
   "id": "99901428",
   "metadata": {},
   "source": [
    "### 32.normalization parameter in crosstab method is used to normalize values by dividing them by the total count"
   ]
  },
  {
   "cell_type": "code",
   "execution_count": 16,
   "id": "c3e9116a",
   "metadata": {},
   "outputs": [],
   "source": [
    "data = {\n",
    "    'Age Group': ['26-35', '18-25', '18-25', '26-35', '18-25', '18-25'],\n",
    "    'Favorite Color': ['Blue', 'Red', 'Red', 'Blue', 'Red', 'Blue'],\n",
    "    'Gender': ['Male', 'Female', 'Male', 'Female', 'Female', 'Female'],\n",
    "    'Has Pet': ['Yes', 'Yes', 'Yes', 'Yes', 'Yes', 'No']\n",
    "}\n"
   ]
  },
  {
   "cell_type": "code",
   "execution_count": 17,
   "id": "d5f715a0",
   "metadata": {},
   "outputs": [],
   "source": [
    "df3 = pd.DataFrame(data)"
   ]
  },
  {
   "cell_type": "code",
   "execution_count": 18,
   "id": "d1e30ccb",
   "metadata": {},
   "outputs": [
    {
     "data": {
      "text/html": [
       "<div>\n",
       "<style scoped>\n",
       "    .dataframe tbody tr th:only-of-type {\n",
       "        vertical-align: middle;\n",
       "    }\n",
       "\n",
       "    .dataframe tbody tr th {\n",
       "        vertical-align: top;\n",
       "    }\n",
       "\n",
       "    .dataframe thead th {\n",
       "        text-align: right;\n",
       "    }\n",
       "</style>\n",
       "<table border=\"1\" class=\"dataframe\">\n",
       "  <thead>\n",
       "    <tr style=\"text-align: right;\">\n",
       "      <th></th>\n",
       "      <th>Age Group</th>\n",
       "      <th>Favorite Color</th>\n",
       "      <th>Gender</th>\n",
       "      <th>Has Pet</th>\n",
       "    </tr>\n",
       "  </thead>\n",
       "  <tbody>\n",
       "    <tr>\n",
       "      <th>0</th>\n",
       "      <td>26-35</td>\n",
       "      <td>Blue</td>\n",
       "      <td>Male</td>\n",
       "      <td>Yes</td>\n",
       "    </tr>\n",
       "    <tr>\n",
       "      <th>1</th>\n",
       "      <td>18-25</td>\n",
       "      <td>Red</td>\n",
       "      <td>Female</td>\n",
       "      <td>Yes</td>\n",
       "    </tr>\n",
       "    <tr>\n",
       "      <th>2</th>\n",
       "      <td>18-25</td>\n",
       "      <td>Red</td>\n",
       "      <td>Male</td>\n",
       "      <td>Yes</td>\n",
       "    </tr>\n",
       "    <tr>\n",
       "      <th>3</th>\n",
       "      <td>26-35</td>\n",
       "      <td>Blue</td>\n",
       "      <td>Female</td>\n",
       "      <td>Yes</td>\n",
       "    </tr>\n",
       "    <tr>\n",
       "      <th>4</th>\n",
       "      <td>18-25</td>\n",
       "      <td>Red</td>\n",
       "      <td>Female</td>\n",
       "      <td>Yes</td>\n",
       "    </tr>\n",
       "    <tr>\n",
       "      <th>5</th>\n",
       "      <td>18-25</td>\n",
       "      <td>Blue</td>\n",
       "      <td>Female</td>\n",
       "      <td>No</td>\n",
       "    </tr>\n",
       "  </tbody>\n",
       "</table>\n",
       "</div>"
      ],
      "text/plain": [
       "  Age Group Favorite Color  Gender Has Pet\n",
       "0     26-35           Blue    Male     Yes\n",
       "1     18-25            Red  Female     Yes\n",
       "2     18-25            Red    Male     Yes\n",
       "3     26-35           Blue  Female     Yes\n",
       "4     18-25            Red  Female     Yes\n",
       "5     18-25           Blue  Female      No"
      ]
     },
     "execution_count": 18,
     "metadata": {},
     "output_type": "execute_result"
    }
   ],
   "source": [
    "df3"
   ]
  },
  {
   "cell_type": "markdown",
   "id": "0085b287",
   "metadata": {},
   "source": [
    "### 33. Probability of finding a Male and having a Pet in df3\n"
   ]
  },
  {
   "cell_type": "code",
   "execution_count": 19,
   "id": "daf0a62e",
   "metadata": {},
   "outputs": [
    {
     "name": "stdout",
     "output_type": "stream",
     "text": [
      "0.3333333333333333\n"
     ]
    }
   ],
   "source": [
    "total_observations = len(df3)#Get the total number of observations in the DataFrame\n",
    "## Counting the number of observations where Gender is 'Male' and Has Pet is 'Yes'\n",
    "male_and_has_pet = len(df3[(df3['Gender'] == 'Male') & (df3['Has Pet'] == 'Yes')])\n",
    "probability = male_and_has_pet / total_observations# Calculate the probability\n",
    "\n",
    "print(probability)"
   ]
  },
  {
   "cell_type": "markdown",
   "id": "5529dd10",
   "metadata": {},
   "source": [
    "#### 34. what is the probalibility of finding a person havinh a pet given they belong to the age 18-25 in df3"
   ]
  },
  {
   "cell_type": "code",
   "execution_count": 20,
   "id": "60eee711",
   "metadata": {},
   "outputs": [
    {
     "name": "stdout",
     "output_type": "stream",
     "text": [
      "0.75\n"
     ]
    }
   ],
   "source": [
    "age_group_18_25 = len(df3[df3['Age Group'] == '18-25'])#Count the number of observations where Age Group is '18-25'\n",
    "# Count the number of observations where both Age Group is '18-25' and Has Pet is 'Yes'\n",
    "has_pet_and_age_group_18_25 = len(df3[(df3['Age Group'] == '18-25') & (df3['Has Pet'] == 'Yes')])\n",
    "#Calculate the probability of having a pet given the age group is '18-25\n",
    "probability = has_pet_and_age_group_18_25 / age_group_18_25\n",
    "\n",
    "print(probability)"
   ]
  },
  {
   "cell_type": "markdown",
   "id": "29d637d0",
   "metadata": {},
   "source": [
    "#### 35.which distribution is appropriate for modeling the number of defects in large batch of products"
   ]
  },
  {
   "cell_type": "markdown",
   "id": "6f345968",
   "metadata": {},
   "source": [
    "* The binomial distribution is a straightforward and effective choice, providing a clear way to estimate the likelihood of a specific number of defects. It assumes independence between products and a consistent probability of defects, making it a simple and practical model for scenarios where defects are binary and rare in a large production batch.\"\n",
    "\n",
    "\n",
    "\n",
    "\n",
    "\n",
    "\n"
   ]
  },
  {
   "cell_type": "markdown",
   "id": "6b5b91be",
   "metadata": {},
   "source": [
    "#### 36.A survey asks participants to rate their satisfaction with a product on a scale of 1 to 5 ,what type of data is being collected"
   ]
  },
  {
   "cell_type": "markdown",
   "id": "72c5b6fb",
   "metadata": {},
   "source": [
    "* categorical data is being collected, as the responses are discrete values on a scale (1 to 5) without any essential order or numerical significance."
   ]
  },
  {
   "cell_type": "markdown",
   "id": "821de444",
   "metadata": {},
   "source": [
    "#### what kind of distribution does the data follow"
   ]
  },
  {
   "cell_type": "markdown",
   "id": "86a263dc",
   "metadata": {},
   "source": [
    "* Left Skewed"
   ]
  },
  {
   "cell_type": "markdown",
   "id": "1b4bdba2",
   "metadata": {},
   "source": [
    "* Reason--> from given fig,here most of the data points are concentrated on the right side, with a few lower values trailing off to the left. "
   ]
  },
  {
   "cell_type": "markdown",
   "id": "0728fda0",
   "metadata": {},
   "source": [
    "#### 38. in data with outliers ,what is the best measure to estimate the dispersion"
   ]
  },
  {
   "cell_type": "markdown",
   "id": "dc21cc4a",
   "metadata": {},
   "source": [
    "* In data with outliers, Standard deviation is best measure to estimate the dispersion"
   ]
  },
  {
   "cell_type": "markdown",
   "id": "17c170c0",
   "metadata": {},
   "source": [
    "* when dealing with data containing outliers, it's often more appropriate to use robust measures of dispersion, such as the interquartile range or median absolute deviation, instead of standard deviation. These measures provide a more accurate representation of the central spread of the data, especially when extreme values are present.\n",
    "\n",
    "\n",
    "\n",
    "\n",
    "\n",
    "\n"
   ]
  },
  {
   "cell_type": "code",
   "execution_count": null,
   "id": "427ef25a",
   "metadata": {},
   "outputs": [],
   "source": []
  }
 ],
 "metadata": {
  "kernelspec": {
   "display_name": "Python 3 (ipykernel)",
   "language": "python",
   "name": "python3"
  },
  "language_info": {
   "codemirror_mode": {
    "name": "ipython",
    "version": 3
   },
   "file_extension": ".py",
   "mimetype": "text/x-python",
   "name": "python",
   "nbconvert_exporter": "python",
   "pygments_lexer": "ipython3",
   "version": "3.11.5"
  }
 },
 "nbformat": 4,
 "nbformat_minor": 5
}

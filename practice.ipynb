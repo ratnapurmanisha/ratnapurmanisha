{
 "cells": [
  {
   "cell_type": "markdown",
   "id": "2cb30668",
   "metadata": {},
   "source": []
  },
  {
   "cell_type": "markdown",
   "id": "de582e94",
   "metadata": {},
   "source": [
    "Write a Python program that asks the user for their age and prints \"You are an adult\" if the age is 18 or older, otherwise prints \"You are a minor'."
   ]
  },
  {
   "cell_type": "code",
   "execution_count": 6,
   "id": "db5a8432",
   "metadata": {},
   "outputs": [
    {
     "name": "stdout",
     "output_type": "stream",
     "text": [
      "enter a age :: 18\n",
      "You are an adult\n"
     ]
    }
   ],
   "source": [
    "user = int(input(\"enter a age :: \"))\n",
    "if user>=18:\n",
    "    print(\"You are an adult\")\n",
    "    \n",
    "else:\n",
    "    print(\"You are a minor\")\n",
    "    "
   ]
  },
  {
   "cell_type": "markdown",
   "id": "d7905510",
   "metadata": {},
   "source": [
    "Write a program that takes a numerical grade (out of 100) as input and prints the corresponding letter grade according to the following scale:\n",
    " 90-100: A\n",
    " 80-89: B\n",
    " 70-79: C\n",
    " 60-69: D\n",
    " Below 60: F"
   ]
  },
  {
   "cell_type": "code",
   "execution_count": 30,
   "id": "fbd24319",
   "metadata": {},
   "outputs": [
    {
     "name": "stdout",
     "output_type": "stream",
     "text": [
      "enter marks92\n",
      "A grade\n"
     ]
    }
   ],
   "source": [
    "marks =int(input('enter marks'))\n",
    "if marks>=90:\n",
    "    print('A grade')\n",
    "elif marks>=80:\n",
    "    print('B grade')\n",
    "elif marks>=70:\n",
    "    print('c grade')\n",
    "elif marks>=60:\n",
    "    print('D grade')\n",
    "else :\n",
    "    \n",
    "    print('F grade')\n",
    "                \n"
   ]
  },
  {
   "cell_type": "markdown",
   "id": "b7b42db1",
   "metadata": {},
   "source": [
    "Write a program that calculates the Body Mass Index (BMI) of a person. The user should input their weight in kilograms and height in meters. The program should then print whether the person is underweight, normal weight, overweight, or obese"
   ]
  },
  {
   "cell_type": "code",
   "execution_count": 18,
   "id": "fd5483ff",
   "metadata": {},
   "outputs": [
    {
     "name": "stdout",
     "output_type": "stream",
     "text": [
      "enter  your weight in Kilogram::70\n",
      "enter your height in meters:: 130\n",
      "underwieght\n"
     ]
    }
   ],
   "source": [
    "weight = int(input('enter  your weight in Kilogram::'))\n",
    "height = int(input('enter your height in meters:: '))\n",
    "BMI=weight/height**2   \n",
    "if BMI<18.5:\n",
    "    print(\"underwieght\")\n",
    "elif BMI>=18.5 :\n",
    "    print(\"normal weight\")\n",
    "elif  BMI<30:\n",
    "    print(\"overwieght\")\n",
    "    \n",
    "else:\n",
    "    print(\"obese\")"
   ]
  },
  {
   "cell_type": "markdown",
   "id": "f20db8a5",
   "metadata": {},
   "source": [
    "Write a program that asks the user for three numbers and prints the maximum of the three.\n"
   ]
  },
  {
   "cell_type": "code",
   "execution_count": 2,
   "id": "9eb41dcd",
   "metadata": {},
   "outputs": [
    {
     "name": "stdout",
     "output_type": "stream",
     "text": [
      "enter a number10\n",
      "enter a number20\n",
      "enter a number30\n",
      "30\n"
     ]
    }
   ],
   "source": [
    "x = int(input(\"enter a number\"))\n",
    "y = int (input(\"enter a number\"))\n",
    "z = int(input(\"enter a number\"))\n",
    "print(max(x,y,z))"
   ]
  },
  {
   "cell_type": "markdown",
   "id": "533bec0b",
   "metadata": {},
   "source": [
    "Write a program that asks the user for a temperature (in Celsius) and prints \"It's freezing\" if the temperature is below 0, \"It's cool\" if it's between 0 and 10, \"It's warm\" if it's between 10 and 20, and \"It's hot\" if it's above 20\n"
   ]
  },
  {
   "cell_type": "code",
   "execution_count": 12,
   "id": "79ce9750",
   "metadata": {},
   "outputs": [
    {
     "name": "stdout",
     "output_type": "stream",
     "text": [
      "enter temparature 29\n",
      "its hot\n"
     ]
    }
   ],
   "source": [
    "temp = int(input(\"enter temparature \"))\n",
    "if temp<=0:\n",
    "    print('its cool')\n",
    "elif temp<=10:\n",
    "    print('its warm')\n",
    "elif temp>20:\n",
    "    print('its hot')\n"
   ]
  },
  {
   "cell_type": "markdown",
   "id": "8fdb02be",
   "metadata": {},
   "source": [
    "Write a program that asks the user for a number (1-7) and prints the corresponding day of the week.\n"
   ]
  },
  {
   "cell_type": "code",
   "execution_count": 13,
   "id": "66aa61ba",
   "metadata": {},
   "outputs": [
    {
     "name": "stdout",
     "output_type": "stream",
     "text": [
      "enter a number:: 3\n",
      "wednesday\n"
     ]
    }
   ],
   "source": [
    "day = int(input(\"enter a number:: \"))\n",
    "if day==1:\n",
    "    print(\"monday\")\n",
    "elif day ==2:\n",
    "    print(\"thuesday\")\n",
    "elif day ==3:\n",
    "     print(\"wednesday\")\n",
    "elif day ==4:\n",
    "    print(\"thursday\")\n",
    "elif day ==5:\n",
    "    print(\"friday\")\n",
    "elif day ==6:\n",
    "    print(\"saturday\")\n",
    "else:\n",
    "    print(\"sunday\")\n",
    "                     \n",
    "        \n",
    "    "
   ]
  },
  {
   "cell_type": "markdown",
   "id": "7cb013f1",
   "metadata": {},
   "source": [
    "Write a program that asks the user for a number and prints \"In range\" if the number is between 10 and 20 (inclusive), and \"Out of range\" otherwise.\n",
    "\n"
   ]
  },
  {
   "cell_type": "code",
   "execution_count": 21,
   "id": "d0a243cf",
   "metadata": {},
   "outputs": [
    {
     "name": "stdout",
     "output_type": "stream",
     "text": [
      "enter a number :: 15\n",
      "inclusive\n"
     ]
    }
   ],
   "source": [
    "number = int(input(\"enter a number :: \"))\n",
    "if number in range(10,21):\n",
    "    print(\"inclusive\")\n",
    "else:\n",
    "    print(\"out of range\")"
   ]
  },
  {
   "cell_type": "markdown",
   "id": "f45beb5f",
   "metadata": {},
   "source": [
    "Write a program that asks the user for an integer and prints whether it's even or odd.\n"
   ]
  },
  {
   "cell_type": "code",
   "execution_count": 19,
   "id": "86a11f40",
   "metadata": {},
   "outputs": [
    {
     "name": "stdout",
     "output_type": "stream",
     "text": [
      "enter an integer::2\n",
      "even\n"
     ]
    }
   ],
   "source": [
    "number = int(input(\"enter an integer::\"))\n",
    "if number%2==0:\n",
    "    print(\"even\")\n",
    "else: \n",
    "    print(\"odd\")\n"
   ]
  },
  {
   "cell_type": "markdown",
   "id": "49836961",
   "metadata": {},
   "source": [
    " Write a Python program to add 'ing' at the end of a given string (string length should be equal to or more than 3). If the given string already ends with 'ing' then add 'ly' instead.If the string length of the given string is less than 3, leave it unchanged\n",
    "\n"
   ]
  },
  {
   "cell_type": "code",
   "execution_count": 37,
   "id": "dcd712f0",
   "metadata": {},
   "outputs": [
    {
     "name": "stdout",
     "output_type": "stream",
     "text": [
      "enter a string::str\n",
      "string\n"
     ]
    }
   ],
   "source": [
    "x = input(\"enter a string::\")\n",
    "if len(x)==2:\n",
    "    print(x)\n",
    "elif x.endswith('ing'):\n",
    "    print(x).replace('ing','ly')\n",
    "else:\n",
    "    print((x)+('ing'))"
   ]
  },
  {
   "cell_type": "code",
   "execution_count": null,
   "id": "1fa94e27",
   "metadata": {},
   "outputs": [],
   "source": [
    "\n"
   ]
  },
  {
   "cell_type": "code",
   "execution_count": null,
   "id": "53a0602c",
   "metadata": {},
   "outputs": [],
   "source": []
  }
 ],
 "metadata": {
  "kernelspec": {
   "display_name": "Python 3 (ipykernel)",
   "language": "python",
   "name": "python3"
  },
  "language_info": {
   "codemirror_mode": {
    "name": "ipython",
    "version": 3
   },
   "file_extension": ".py",
   "mimetype": "text/x-python",
   "name": "python",
   "nbconvert_exporter": "python",
   "pygments_lexer": "ipython3",
   "version": "3.11.5"
  }
 },
 "nbformat": 4,
 "nbformat_minor": 5
}
